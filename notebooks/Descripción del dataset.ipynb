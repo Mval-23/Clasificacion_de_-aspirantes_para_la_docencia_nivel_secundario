{
 "cells": [
  {
   "cell_type": "markdown",
   "id": "c10615e3-1b3d-41cb-b970-39677f9b078f",
   "metadata": {},
   "source": [
    "# DESCRIPCIÓN DEL DATASET Y ORIGEN\n",
    "\n",
    "### Acceso al dataset que se utilizará en el proyecto de Aprendizaje Automático\n",
    "### Descripción completa del dataset, incluyendo la cantidad de instancias, características (columnas), tipos de datos, y cualquier información relevante.\n"
   ]
  },
  {
   "cell_type": "code",
   "execution_count": 2,
   "id": "1638d0d7-c279-4085-a1e5-503aca879d63",
   "metadata": {},
   "outputs": [
    {
     "data": {
      "text/html": [
       "<div>\n",
       "<style scoped>\n",
       "    .dataframe tbody tr th:only-of-type {\n",
       "        vertical-align: middle;\n",
       "    }\n",
       "\n",
       "    .dataframe tbody tr th {\n",
       "        vertical-align: top;\n",
       "    }\n",
       "\n",
       "    .dataframe thead th {\n",
       "        text-align: right;\n",
       "    }\n",
       "</style>\n",
       "<table border=\"1\" class=\"dataframe\">\n",
       "  <thead>\n",
       "    <tr style=\"text-align: right;\">\n",
       "      <th></th>\n",
       "      <th>idespacio</th>\n",
       "      <th>idtitulo</th>\n",
       "      <th>idtitulo_real</th>\n",
       "      <th>idcasaestudio</th>\n",
       "      <th>caracter</th>\n",
       "      <th>idNivel_espacio</th>\n",
       "      <th>desc_espacio</th>\n",
       "      <th>tipo_espacio</th>\n",
       "      <th>ciudad_espacio</th>\n",
       "      <th>resolucion_espacio</th>\n",
       "      <th>titulo</th>\n",
       "      <th>resolucion</th>\n",
       "      <th>nombre</th>\n",
       "      <th>facultad</th>\n",
       "      <th>provincia</th>\n",
       "      <th>ciudad</th>\n",
       "    </tr>\n",
       "  </thead>\n",
       "  <tbody>\n",
       "    <tr>\n",
       "      <th>0</th>\n",
       "      <td>611</td>\n",
       "      <td>0046200276</td>\n",
       "      <td>462</td>\n",
       "      <td>00276</td>\n",
       "      <td>D</td>\n",
       "      <td>1.0</td>\n",
       "      <td>A.T.T.P. Inglés</td>\n",
       "      <td>Cargo</td>\n",
       "      <td>101.0</td>\n",
       "      <td>1354/17</td>\n",
       "      <td>PROFESORA DE INGLÉS</td>\n",
       "      <td>757-ME-09</td>\n",
       "      <td>INSTITUTO DE EDUCACIÓN SUPERIOR N° 10</td>\n",
       "      <td>NaN</td>\n",
       "      <td>JUJUY</td>\n",
       "      <td>LIBERTADOR GENERAL SAN MARTIN</td>\n",
       "    </tr>\n",
       "    <tr>\n",
       "      <th>1</th>\n",
       "      <td>708</td>\n",
       "      <td>0046200276</td>\n",
       "      <td>462</td>\n",
       "      <td>00276</td>\n",
       "      <td>D</td>\n",
       "      <td>2.0</td>\n",
       "      <td>Lengua Extranjera: Inglés</td>\n",
       "      <td>Espacio</td>\n",
       "      <td>111.0</td>\n",
       "      <td>1354/17</td>\n",
       "      <td>PROFESORA DE INGLÉS</td>\n",
       "      <td>757-ME-09</td>\n",
       "      <td>INSTITUTO DE EDUCACIÓN SUPERIOR N° 10</td>\n",
       "      <td>NaN</td>\n",
       "      <td>JUJUY</td>\n",
       "      <td>LIBERTADOR GENERAL SAN MARTIN</td>\n",
       "    </tr>\n",
       "    <tr>\n",
       "      <th>2</th>\n",
       "      <td>808</td>\n",
       "      <td>0046200276</td>\n",
       "      <td>462</td>\n",
       "      <td>00276</td>\n",
       "      <td>D</td>\n",
       "      <td>3.0</td>\n",
       "      <td>Lengua Extranjera: Inglés</td>\n",
       "      <td>Espacio</td>\n",
       "      <td>111.0</td>\n",
       "      <td>1354/17</td>\n",
       "      <td>PROFESORA DE INGLÉS</td>\n",
       "      <td>757-ME-09</td>\n",
       "      <td>INSTITUTO DE EDUCACIÓN SUPERIOR N° 10</td>\n",
       "      <td>NaN</td>\n",
       "      <td>JUJUY</td>\n",
       "      <td>LIBERTADOR GENERAL SAN MARTIN</td>\n",
       "    </tr>\n",
       "    <tr>\n",
       "      <th>3</th>\n",
       "      <td>2012</td>\n",
       "      <td>0046200276</td>\n",
       "      <td>462</td>\n",
       "      <td>00276</td>\n",
       "      <td>D</td>\n",
       "      <td>4.0</td>\n",
       "      <td>Lenguas Extranjeras: Inglés</td>\n",
       "      <td>Espacio</td>\n",
       "      <td>111.0</td>\n",
       "      <td>1354/17</td>\n",
       "      <td>PROFESORA DE INGLÉS</td>\n",
       "      <td>757-ME-09</td>\n",
       "      <td>INSTITUTO DE EDUCACIÓN SUPERIOR N° 10</td>\n",
       "      <td>NaN</td>\n",
       "      <td>JUJUY</td>\n",
       "      <td>LIBERTADOR GENERAL SAN MARTIN</td>\n",
       "    </tr>\n",
       "    <tr>\n",
       "      <th>4</th>\n",
       "      <td>2046</td>\n",
       "      <td>0046200276</td>\n",
       "      <td>462</td>\n",
       "      <td>00276</td>\n",
       "      <td>D</td>\n",
       "      <td>5.0</td>\n",
       "      <td>Estudios Interculturales en Lengua I y II (Ing...</td>\n",
       "      <td>Espacio</td>\n",
       "      <td>111.0</td>\n",
       "      <td>1354/17</td>\n",
       "      <td>PROFESORA DE INGLÉS</td>\n",
       "      <td>757-ME-09</td>\n",
       "      <td>INSTITUTO DE EDUCACIÓN SUPERIOR N° 10</td>\n",
       "      <td>NaN</td>\n",
       "      <td>JUJUY</td>\n",
       "      <td>LIBERTADOR GENERAL SAN MARTIN</td>\n",
       "    </tr>\n",
       "  </tbody>\n",
       "</table>\n",
       "</div>"
      ],
      "text/plain": [
       "   idespacio    idtitulo  idtitulo_real idcasaestudio caracter  \\\n",
       "0        611  0046200276            462         00276        D   \n",
       "1        708  0046200276            462         00276        D   \n",
       "2        808  0046200276            462         00276        D   \n",
       "3       2012  0046200276            462         00276        D   \n",
       "4       2046  0046200276            462         00276        D   \n",
       "\n",
       "   idNivel_espacio                                       desc_espacio  \\\n",
       "0              1.0                                    A.T.T.P. Inglés   \n",
       "1              2.0                          Lengua Extranjera: Inglés   \n",
       "2              3.0                          Lengua Extranjera: Inglés   \n",
       "3              4.0                        Lenguas Extranjeras: Inglés   \n",
       "4              5.0  Estudios Interculturales en Lengua I y II (Ing...   \n",
       "\n",
       "  tipo_espacio  ciudad_espacio resolucion_espacio               titulo  \\\n",
       "0        Cargo           101.0            1354/17  PROFESORA DE INGLÉS   \n",
       "1      Espacio           111.0            1354/17  PROFESORA DE INGLÉS   \n",
       "2      Espacio           111.0            1354/17  PROFESORA DE INGLÉS   \n",
       "3      Espacio           111.0            1354/17  PROFESORA DE INGLÉS   \n",
       "4      Espacio           111.0            1354/17  PROFESORA DE INGLÉS   \n",
       "\n",
       "  resolucion                                 nombre facultad provincia  \\\n",
       "0  757-ME-09  INSTITUTO DE EDUCACIÓN SUPERIOR N° 10      NaN     JUJUY   \n",
       "1  757-ME-09  INSTITUTO DE EDUCACIÓN SUPERIOR N° 10      NaN     JUJUY   \n",
       "2  757-ME-09  INSTITUTO DE EDUCACIÓN SUPERIOR N° 10      NaN     JUJUY   \n",
       "3  757-ME-09  INSTITUTO DE EDUCACIÓN SUPERIOR N° 10      NaN     JUJUY   \n",
       "4  757-ME-09  INSTITUTO DE EDUCACIÓN SUPERIOR N° 10      NaN     JUJUY   \n",
       "\n",
       "                          ciudad  \n",
       "0  LIBERTADOR GENERAL SAN MARTIN  \n",
       "1  LIBERTADOR GENERAL SAN MARTIN  \n",
       "2  LIBERTADOR GENERAL SAN MARTIN  \n",
       "3  LIBERTADOR GENERAL SAN MARTIN  \n",
       "4  LIBERTADOR GENERAL SAN MARTIN  "
      ]
     },
     "execution_count": 2,
     "metadata": {},
     "output_type": "execute_result"
    }
   ],
   "source": [
    "# Importo las librerías necesarias\n",
    "import pandas as pd\n",
    "import numpy as np\n",
    "\n",
    "# Cargo el dataset dataset_jcyd_ok.\n",
    "dat_excel  = pd.read_excel('C:/Users/Usuario/OneDrive/Documentos/BASE_DE_DATOS_E_INTELIGENCIA_ARTIFICIAL/2024/2Cuatrimestre/APRENDIZAJE AUTOMATICO/PARCIAL/3-Entrega 2 Descripción del Dataset y Origen/SET-APRENDIZAJE AUTOMATICO/dataset_jcyd_ok.xlsx') \n",
    "dat_excel.head()"
   ]
  },
  {
   "cell_type": "code",
   "execution_count": 5,
   "id": "08f73196-2375-470b-beb5-ac9a8d97c34d",
   "metadata": {},
   "outputs": [
    {
     "name": "stdout",
     "output_type": "stream",
     "text": [
      "\n",
      "Información general:\n",
      "<class 'pandas.core.frame.DataFrame'>\n",
      "RangeIndex: 52936 entries, 0 to 52935\n",
      "Data columns (total 16 columns):\n",
      " #   Column              Non-Null Count  Dtype  \n",
      "---  ------              --------------  -----  \n",
      " 0   idespacio           52936 non-null  int64  \n",
      " 1   idtitulo            52936 non-null  object \n",
      " 2   idtitulo_real       52936 non-null  int64  \n",
      " 3   idcasaestudio       52936 non-null  object \n",
      " 4   caracter            52936 non-null  object \n",
      " 5   idNivel_espacio     52935 non-null  float64\n",
      " 6   desc_espacio        52935 non-null  object \n",
      " 7   tipo_espacio        52935 non-null  object \n",
      " 8   ciudad_espacio      52935 non-null  float64\n",
      " 9   resolucion_espacio  52935 non-null  object \n",
      " 10  titulo              52811 non-null  object \n",
      " 11  resolucion          50811 non-null  object \n",
      " 12  nombre              52695 non-null  object \n",
      " 13  facultad            14125 non-null  object \n",
      " 14  provincia           50367 non-null  object \n",
      " 15  ciudad              42042 non-null  object \n",
      "dtypes: float64(2), int64(2), object(12)\n",
      "memory usage: 6.5+ MB\n",
      "None\n"
     ]
    }
   ],
   "source": [
    "print(\"\\nInformación general:\")\n",
    "print(dat_excel.info())\n",
    "\n"
   ]
  },
  {
   "cell_type": "code",
   "execution_count": 4,
   "id": "20adc2a4-1620-423e-b548-1e461131b6c9",
   "metadata": {},
   "outputs": [
    {
     "name": "stdout",
     "output_type": "stream",
     "text": [
      "El dataset tiene 52936 filas y 16 columnas.\n"
     ]
    }
   ],
   "source": [
    "# Para obtener filas y columnas\n",
    "num_filas, num_columnas = dat_excel.shape\n",
    "\n",
    "print(\"El dataset tiene\", num_filas, \"filas y\", num_columnas, \"columnas.\")"
   ]
  },
  {
   "cell_type": "code",
   "execution_count": 6,
   "id": "0167ef7e-0905-4382-adb1-e9828f5c98a2",
   "metadata": {},
   "outputs": [
    {
     "name": "stdout",
     "output_type": "stream",
     "text": [
      "\n",
      "Tipos de datos:\n",
      "idespacio               int64\n",
      "idtitulo               object\n",
      "idtitulo_real           int64\n",
      "idcasaestudio          object\n",
      "caracter               object\n",
      "idNivel_espacio       float64\n",
      "desc_espacio           object\n",
      "tipo_espacio           object\n",
      "ciudad_espacio        float64\n",
      "resolucion_espacio     object\n",
      "titulo                 object\n",
      "resolucion             object\n",
      "nombre                 object\n",
      "facultad               object\n",
      "provincia              object\n",
      "ciudad                 object\n",
      "dtype: object\n"
     ]
    }
   ],
   "source": [
    "print(\"\\nTipos de datos:\")\n",
    "print(dat_excel.dtypes)"
   ]
  },
  {
   "cell_type": "code",
   "execution_count": 7,
   "id": "6c4b55a7-342a-4939-b78a-1e546f812ba0",
   "metadata": {},
   "outputs": [
    {
     "name": "stdout",
     "output_type": "stream",
     "text": [
      "Nombres de las columnas:\n",
      "Index(['idespacio', 'idtitulo', 'idtitulo_real', 'idcasaestudio', 'caracter',\n",
      "       'idNivel_espacio', 'desc_espacio', 'tipo_espacio', 'ciudad_espacio',\n",
      "       'resolucion_espacio', 'titulo', 'resolucion', 'nombre', 'facultad',\n",
      "       'provincia', 'ciudad'],\n",
      "      dtype='object')\n"
     ]
    }
   ],
   "source": [
    "print(\"Nombres de las columnas:\")\n",
    "print(dat_excel.columns)"
   ]
  },
  {
   "cell_type": "code",
   "execution_count": 8,
   "id": "afe0ad8b-7e41-43bd-bd91-88ab0642ab94",
   "metadata": {},
   "outputs": [
    {
     "name": "stdout",
     "output_type": "stream",
     "text": [
      "\n",
      "Estadísticas descriptivas:\n",
      "          idespacio  idtitulo_real  idNivel_espacio  ciudad_espacio\n",
      "count  52936.000000   52936.000000     52935.000000    52935.000000\n",
      "mean     961.109755    1861.949581         5.042864       91.536772\n",
      "std      647.433088    1122.017164         3.154639       37.945680\n",
      "min      100.000000       0.000000         1.000000        1.000000\n",
      "25%      615.000000     905.000000         2.000000      101.000000\n",
      "50%      714.000000    1719.000000         5.000000      111.000000\n",
      "75%     1149.000000    2775.000000         7.000000      111.000000\n",
      "max    20525.000000    4123.000000        11.000000      111.000000\n"
     ]
    }
   ],
   "source": [
    "print(\"\\nEstadísticas descriptivas:\")\n",
    "print(dat_excel.describe())"
   ]
  },
  {
   "cell_type": "code",
   "execution_count": 9,
   "id": "807f8333-d286-4b5b-a4a8-5815d6ca7c84",
   "metadata": {},
   "outputs": [
    {
     "name": "stdout",
     "output_type": "stream",
     "text": [
      "\n",
      "Estadísticas descriptivas de las columnas numéricas:\n",
      "          idespacio  idtitulo_real  idNivel_espacio  ciudad_espacio\n",
      "count  52936.000000   52936.000000     52935.000000    52935.000000\n",
      "mean     961.109755    1861.949581         5.042864       91.536772\n",
      "std      647.433088    1122.017164         3.154639       37.945680\n",
      "min      100.000000       0.000000         1.000000        1.000000\n",
      "25%      615.000000     905.000000         2.000000      101.000000\n",
      "50%      714.000000    1719.000000         5.000000      111.000000\n",
      "75%     1149.000000    2775.000000         7.000000      111.000000\n",
      "max    20525.000000    4123.000000        11.000000      111.000000\n"
     ]
    }
   ],
   "source": [
    "print(\"\\nEstadísticas descriptivas de las columnas numéricas:\")\n",
    "print(dat_excel.describe(include=[np.number]))"
   ]
  },
  {
   "cell_type": "code",
   "execution_count": 10,
   "id": "7ecd268c-20e6-4631-b5b4-67df839a4ea8",
   "metadata": {},
   "outputs": [
    {
     "name": "stdout",
     "output_type": "stream",
     "text": [
      "\n",
      "Estadísticas descriptivas de las columnas categóricas:\n",
      "          idtitulo idcasaestudio caracter desc_espacio tipo_espacio  \\\n",
      "count        52936         52936    52936        52935        52935   \n",
      "unique        5001          2459        3          468            3   \n",
      "top     0297500465         01817        H  Preceptor/a      Espacio   \n",
      "freq            72          1695    20355         4648        41198   \n",
      "\n",
      "       resolucion_espacio                          titulo resolucion  \\\n",
      "count               52935                           52811      50811   \n",
      "unique                  5                            2375       1983   \n",
      "top               1354/17  PROFESOR/A DE EDUCACIÓN FÍSICA        S/R   \n",
      "freq                51058                            2153       6484   \n",
      "\n",
      "                                                   nombre  \\\n",
      "count                                               52695   \n",
      "unique                                               2167   \n",
      "top     INSTITUTO PROVINCIAL DE EDUCACIÓN SUPERIOR \\\"P...   \n",
      "freq                                                 1695   \n",
      "\n",
      "                                           facultad     provincia      ciudad  \n",
      "count                                         14125         50367       42042  \n",
      "unique                                          286           121         542  \n",
      "top     FACULTAD DE HUMANIDADES Y CIENCIAS SOCIALES  BUENOS AIRES  RIO GRANDE  \n",
      "freq                                            853         10912        3961  \n"
     ]
    }
   ],
   "source": [
    "print(\"\\nEstadísticas descriptivas de las columnas categóricas:\")\n",
    "print(dat_excel.describe(include=['object']))"
   ]
  },
  {
   "cell_type": "code",
   "execution_count": 11,
   "id": "f226d966-df13-48b4-892c-519faf621e98",
   "metadata": {},
   "outputs": [
    {
     "name": "stdout",
     "output_type": "stream",
     "text": [
      "\n",
      "Valores únicos en cada columna:\n",
      "Columna 'idespacio': 522 valores únicos\n",
      "Columna 'idtitulo': 5001 valores únicos\n",
      "Columna 'idtitulo_real': 3313 valores únicos\n",
      "Columna 'idcasaestudio': 2459 valores únicos\n",
      "Columna 'caracter': 3 valores únicos\n",
      "Columna 'idNivel_espacio': 11 valores únicos\n",
      "Columna 'desc_espacio': 468 valores únicos\n",
      "Columna 'tipo_espacio': 3 valores únicos\n",
      "Columna 'ciudad_espacio': 5 valores únicos\n",
      "Columna 'resolucion_espacio': 5 valores únicos\n",
      "Columna 'titulo': 2375 valores únicos\n",
      "Columna 'resolucion': 1983 valores únicos\n",
      "Columna 'nombre': 2167 valores únicos\n",
      "Columna 'facultad': 286 valores únicos\n",
      "Columna 'provincia': 121 valores únicos\n",
      "Columna 'ciudad': 542 valores únicos\n"
     ]
    }
   ],
   "source": [
    "print(\"\\nValores únicos en cada columna:\")\n",
    "for columna in dat_excel.columns:\n",
    "    print(f\"Columna '{columna}': {dat_excel[columna].nunique()} valores únicos\")"
   ]
  },
  {
   "cell_type": "code",
   "execution_count": 16,
   "id": "4f12cdb6-5c47-45d7-a6d9-bd4727b17a5e",
   "metadata": {},
   "outputs": [
    {
     "name": "stdout",
     "output_type": "stream",
     "text": [
      "\n",
      "Valores únicos en la columna 'Tipo_espacio':\n",
      "['Cargo' 'Espacio' 'Directivo' nan]\n"
     ]
    }
   ],
   "source": [
    "print(\"\\nValores únicos en la columna 'T':\")\n",
    "print(dat_excel['tipo_espacio'].unique())"
   ]
  }
 ],
 "metadata": {
  "kernelspec": {
   "display_name": "Python 3 (ipykernel)",
   "language": "python",
   "name": "python3"
  },
  "language_info": {
   "codemirror_mode": {
    "name": "ipython",
    "version": 3
   },
   "file_extension": ".py",
   "mimetype": "text/x-python",
   "name": "python",
   "nbconvert_exporter": "python",
   "pygments_lexer": "ipython3",
   "version": "3.12.4"
  }
 },
 "nbformat": 4,
 "nbformat_minor": 5
}
